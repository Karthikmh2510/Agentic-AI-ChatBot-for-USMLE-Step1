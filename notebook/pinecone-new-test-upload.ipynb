{
 "cells": [
  {
   "cell_type": "markdown",
   "metadata": {},
   "source": [
    "### Step 1: Initialize Pinecone"
   ]
  },
  {
   "cell_type": "code",
   "execution_count": 2,
   "metadata": {},
   "outputs": [
    {
     "data": {
      "text/plain": [
       "True"
      ]
     },
     "execution_count": 2,
     "metadata": {},
     "output_type": "execute_result"
    }
   ],
   "source": [
    "import os\n",
    "from dotenv import load_dotenv\n",
    "load_dotenv()"
   ]
  },
  {
   "cell_type": "code",
   "execution_count": 3,
   "metadata": {},
   "outputs": [],
   "source": [
    "pinecone_api = os.getenv(\"PINECONE_API_KEY\")"
   ]
  },
  {
   "cell_type": "code",
   "execution_count": null,
   "metadata": {},
   "outputs": [
    {
     "name": "stderr",
     "output_type": "stream",
     "text": [
      "k:\\LC_Projects\\new_test\\newtest\\Lib\\site-packages\\pinecone\\data\\index.py:1: TqdmWarning: IProgress not found. Please update jupyter and ipywidgets. See https://ipywidgets.readthedocs.io/en/stable/user_install.html\n",
      "  from tqdm.autonotebook import tqdm\n"
     ]
    }
   ],
   "source": [
    "from pinecone import Pinecone\n",
    "\n",
    "pc = Pinecone(api_key = pinecone_api)\n",
    "\n",
    "# Connecting to a serverless index\n",
    "index_name = \"new-test\"\n",
    "index = pc.Index(index_name)\n"
   ]
  },
  {
   "cell_type": "markdown",
   "metadata": {},
   "source": [
    "### Step 2: Load Hugging Face Model and Tokenizer"
   ]
  },
  {
   "cell_type": "code",
   "execution_count": 5,
   "metadata": {},
   "outputs": [],
   "source": [
    "import torch\n",
    "from transformers import AutoTokenizer, AutoModel\n",
    "\n",
    "model_name = \"abhinand/MedEmbed-large-v0.1\"\n",
    "\n",
    "tokenizer = AutoTokenizer.from_pretrained(model_name)\n",
    "model = AutoModel.from_pretrained(model_name)\n",
    "\n",
    "# Function to generate embeddings\n",
    "def generate_embeddings(text):\n",
    "    inputs = tokenizer(text, return_tensors=\"pt\", padding=True, truncation=True)\n",
    "    with torch.no_grad():\n",
    "        outputs = model(**inputs)\n",
    "    embeddings = outputs.last_hidden_state.mean(dim=1)  # Pooling the token embeddings\n",
    "    return embeddings.squeeze().tolist()  # Ensure the output is a flat list"
   ]
  },
  {
   "cell_type": "markdown",
   "metadata": {},
   "source": [
    "### Step 3: Define Functions for Text and Table Embeddings"
   ]
  },
  {
   "cell_type": "code",
   "execution_count": 56,
   "metadata": {},
   "outputs": [],
   "source": [
    "import PyPDF2\n",
    "import pdfplumber\n",
    "import uuid\n",
    "\n",
    "# Function to extract text from a PDF using pdfplumber\n",
    "def extract_text_from_pdf(pdf_path):\n",
    "    with pdfplumber.open(pdf_path) as pdf:\n",
    "        text = ''\n",
    "        for page in pdf.pages:\n",
    "            text += page.extract_text()\n",
    "    return text\n",
    "\n",
    "# Function to extract tables from a PDF using pdfplumber\n",
    "def extract_tables_from_pdf(pdf_path):\n",
    "    tables = []\n",
    "    with pdfplumber.open(pdf_path) as pdf:\n",
    "        for page in pdf.pages:\n",
    "            tables_on_page = page.extract_tables()\n",
    "            tables.extend(tables_on_page)\n",
    "    return tables"
   ]
  },
  {
   "cell_type": "markdown",
   "metadata": {},
   "source": [
    "### Step 4: Process PDF files in the folder"
   ]
  },
  {
   "cell_type": "code",
   "execution_count": 57,
   "metadata": {},
   "outputs": [],
   "source": [
    "# Helper function to chunk text for large documents\n",
    "def chunk_text(text, max_length=512):\n",
    "    words = text.split()\n",
    "    for i in range(0, len(words), max_length):\n",
    "        yield ' '.join(words[i:i+max_length])\n",
    "\n",
    "# Step 4: Process PDF files in the folder and upsert with UUIDs and metadata\n",
    "def process_pdfs_in_folder(folder_path):\n",
    "    for file_idx, file_name in enumerate(os.listdir(folder_path)):\n",
    "        if file_name.endswith('.pdf'):\n",
    "            pdf_path = os.path.join(folder_path, file_name)\n",
    "            print(f\"Processing {file_name}...\")\n",
    "\n",
    "            # Generate a base UUID for the document\n",
    "            document_uuid = uuid.uuid4()  # Unique UUID for the document\n",
    "\n",
    "            # Step 4.1: Extract and Embed Text\n",
    "            text = extract_text_from_pdf(pdf_path)\n",
    "            text_chunks = list(chunk_text(text))  # Create a list of text chunks\n",
    "\n",
    "            for chunk_idx, chunk in enumerate(text_chunks):\n",
    "                # Generate embeddings for each chunk of text\n",
    "                text_embedding = generate_embeddings(chunk)\n",
    "                \n",
    "                # Generate a unique UUID for each chunk (combining doc UUID + chunk index)\n",
    "                chunk_uuid = f\"{document_uuid}_text_chunk_{chunk_idx}\"\n",
    "                \n",
    "                # Prepare metadata, here we're storing the original text\n",
    "                metadata = {\n",
    "                    \"document_id\": str(document_uuid), \n",
    "                    \"chunk_id\": chunk_idx, \n",
    "                    \"text\": chunk}\n",
    "\n",
    "                # Upsert into Pinecone using the UUID and metadata\n",
    "                index.upsert(vectors=[(chunk_uuid, text_embedding, metadata)])\n",
    "\n",
    "            # Step 4.2: Extract and Embed Tables\n",
    "            tables = extract_tables_from_pdf(pdf_path)\n",
    "            for table_idx, table in enumerate(tables):\n",
    "                # Table rows extraction\n",
    "                for row_idx, row in enumerate(table):\n",
    "                    row_string = ' '.join([str(cell) for cell in row])\n",
    "                    row_embedding = generate_embeddings(row_string)\n",
    "                    \n",
    "                    # Generate unique UUID for each table row (combining doc UUID + table + row index)\n",
    "                    row_uuid = f\"{document_uuid}_table_{table_idx}_row_{row_idx}\"\n",
    "\n",
    "                    # Prepare metadata for the table row\n",
    "                    metadata = {\n",
    "                        \"document_id\": str(document_uuid),\n",
    "                        \"table_id\": table_idx,\n",
    "                        \"row_id\": row_idx,\n",
    "                        \"text\": row_string\n",
    "                    }\n",
    "\n",
    "                    # Upsert into Pinecone using the UUID and metadata\n",
    "                    index.upsert(vectors=[(row_uuid, row_embedding, metadata)])"
   ]
  },
  {
   "cell_type": "markdown",
   "metadata": {},
   "source": [
    "### Step 5: Define folder path containing PDFs and run the embedding process"
   ]
  },
  {
   "cell_type": "code",
   "execution_count": null,
   "metadata": {},
   "outputs": [
    {
     "name": "stdout",
     "output_type": "stream",
     "text": [
      "Processing USMLE_Step1_2023-part-1.pdf...\n",
      "Processing USMLE_Step1_2023-part-10.pdf...\n",
      "Processing USMLE_Step1_2023-part-11.pdf...\n",
      "Processing USMLE_Step1_2023-part-12.pdf...\n",
      "Processing USMLE_Step1_2023-part-13.pdf...\n",
      "Processing USMLE_Step1_2023-part-14.pdf...\n",
      "Processing USMLE_Step1_2023-part-15.pdf...\n",
      "Processing USMLE_Step1_2023-part-16.pdf...\n",
      "Processing USMLE_Step1_2023-part-17.pdf...\n",
      "Processing USMLE_Step1_2023-part-18.pdf...\n",
      "Processing USMLE_Step1_2023-part-19.pdf...\n",
      "Processing USMLE_Step1_2023-part-2.pdf...\n",
      "Processing USMLE_Step1_2023-part-3.pdf...\n",
      "Processing USMLE_Step1_2023-part-4.pdf...\n",
      "Processing USMLE_Step1_2023-part-5.pdf...\n",
      "Processing USMLE_Step1_2023-part-6.pdf...\n",
      "Processing USMLE_Step1_2023-part-7.pdf...\n",
      "Processing USMLE_Step1_2023-part-8.pdf...\n",
      "Processing USMLE_Step1_2023-part-9.pdf...\n"
     ]
    }
   ],
   "source": [
    "folder_path = \"K:/USMLE-RAG/artifacts/raw\"\n",
    "process_pdfs_in_folder(folder_path)"
   ]
  },
  {
   "cell_type": "markdown",
   "metadata": {},
   "source": [
    "### Step 6: Example: Query Pinecone for similar text or table rows"
   ]
  },
  {
   "cell_type": "code",
   "execution_count": 7,
   "metadata": {},
   "outputs": [
    {
     "name": "stdout",
     "output_type": "stream",
     "text": [
      "{'matches': [{'id': '1f11975c-04a7-48ac-bce7-e6133b643121_table_112_row_0',\n",
      "              'metadata': {'document_id': '1f11975c-04a7-48ac-bce7-e6133b643121',\n",
      "                           'row_id': 0.0,\n",
      "                           'table_id': 112.0,\n",
      "                           'text': 'TYPE INHERITANCE PATHOGENESIS \\x8f BlOOD '\n",
      "                                   'lEVEl ClINICAl'},\n",
      "              'score': 0.74628615,\n",
      "              'sparse_values': {'indices': [], 'values': []},\n",
      "              'values': []},\n",
      "             {'id': '147c8efc-5c70-49b0-aae5-b820c8b0cfe6_table_5_row_15',\n",
      "              'metadata': {'document_id': '147c8efc-5c70-49b0-aae5-b820c8b0cfe6',\n",
      "                           'row_id': 15.0,\n",
      "                           'table_id': 5.0,\n",
      "                           'text': 'Genetics 5–9   '},\n",
      "              'score': 0.72350407,\n",
      "              'sparse_values': {'indices': [], 'values': []},\n",
      "              'values': []},\n",
      "             {'id': '1f11975c-04a7-48ac-bce7-e6133b643121_table_62_row_0',\n",
      "              'metadata': {'document_id': '1f11975c-04a7-48ac-bce7-e6133b643121',\n",
      "                           'row_id': 0.0,\n",
      "                           'table_id': 62.0,\n",
      "                           'text': 'DISEASE TRINUClEOTIDE REPEAT MODE OF '\n",
      "                                   'INHERITANCE MNEMONIC'},\n",
      "              'score': 0.7228057,\n",
      "              'sparse_values': {'indices': [], 'values': []},\n",
      "              'values': []},\n",
      "             {'id': '10175c58-d152-4084-a41b-013c215a7746_table_48_row_1',\n",
      "              'metadata': {'document_id': '10175c58-d152-4084-a41b-013c215a7746',\n",
      "                           'row_id': 1.0,\n",
      "                           'table_id': 48.0,\n",
      "                           'text': 'Mitochondrial inheritance Disease occurs '\n",
      "                                   'in all offspring of affected females\\n'\n",
      "                                   '(maternal inheritance pattern), '\n",
      "                                   'heteroplasmy 55, 57'},\n",
      "              'score': 0.7201822,\n",
      "              'sparse_values': {'indices': [], 'values': []},\n",
      "              'values': []},\n",
      "             {'id': '92b555f0-424f-474f-bc82-92d75d81bfa0_table_65_row_0',\n",
      "              'metadata': {'document_id': '92b555f0-424f-474f-bc82-92d75d81bfa0',\n",
      "                           'row_id': 0.0,\n",
      "                           'table_id': 65.0,\n",
      "                           'text': 'tyPe occURS In genetIcS commentS'},\n",
      "              'score': 0.7178861,\n",
      "              'sparse_values': {'indices': [], 'values': []},\n",
      "              'values': []}],\n",
      " 'namespace': '',\n",
      " 'usage': {'read_units': 6}}\n"
     ]
    }
   ],
   "source": [
    "# Step 6: Example: Query Pinecone for similar text or table rows\n",
    "def query_pinecone(query_text, top_k=5):\n",
    "    query_embedding = generate_embeddings(query_text)\n",
    "    result = index.query(vector=query_embedding, top_k=top_k, include_metadata=True)\n",
    "    return result\n",
    "\n",
    "# Example query\n",
    "query_result = query_pinecone(\"explain modes of inheritance\")\n",
    "print(query_result)"
   ]
  },
  {
   "cell_type": "code",
   "execution_count": null,
   "metadata": {},
   "outputs": [],
   "source": []
  }
 ],
 "metadata": {
  "kernelspec": {
   "display_name": "Python 3",
   "language": "python",
   "name": "python3"
  },
  "language_info": {
   "codemirror_mode": {
    "name": "ipython",
    "version": 3
   },
   "file_extension": ".py",
   "mimetype": "text/x-python",
   "name": "python",
   "nbconvert_exporter": "python",
   "pygments_lexer": "ipython3",
   "version": "3.12.0"
  }
 },
 "nbformat": 4,
 "nbformat_minor": 2
}
