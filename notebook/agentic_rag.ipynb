{
 "cells": [
  {
   "cell_type": "code",
   "execution_count": 1,
   "id": "984175dc",
   "metadata": {},
   "outputs": [],
   "source": [
    "import os\n",
    "import warnings\n",
    "from dotenv import load_dotenv\n",
    "\n",
    "load_dotenv()\n",
    "warnings.filterwarnings(\"ignore\")\n",
    "\n",
    "OPENAI_KEY = os.getenv(\"OPENAI_API_KEY\")\n",
    "HUGGINGFACE_API = os.getenv(\"HUGGINGFACE_API_KEY\")\n",
    "PINECONE_KEY = os.getenv(\"PINECONE_API_KEY\")\n",
    "TAVILY_API_KEY = os.getenv(\"TAVILY_API_KEY\")\n",
    "\n",
    "LANGSMITH_API_KEY = os.getenv(\"LANGSMITH_API_KEY\")\n",
    "LANGSMITH_TRACING = os.getenv(\"LANGSMITH_TRACING\")\n",
    "LANGSMITH_ENDPOINT = os.getenv(\"LANGSMITH_ENDPOINT\")\n",
    "LANGCHAIN_API_KEY=os.getenv(\"LANGCHAIN_API_KEY\")\n",
    "\n",
    "os.environ[\"LANGSMITH_API_KEY\"] = LANGSMITH_API_KEY\n",
    "os.environ[\"LANGSMITH_TRACING\"] = LANGSMITH_TRACING\n",
    "os.environ[\"LANGSMITH_ENDPOINT\"] = LANGSMITH_ENDPOINT"
   ]
  },
  {
   "cell_type": "code",
   "execution_count": 2,
   "id": "95004762",
   "metadata": {},
   "outputs": [],
   "source": [
    "from langchain_openai import ChatOpenAI\n",
    "\n",
    "llm = ChatOpenAI(model=\"gpt-4.1-mini-2025-04-14\", api_key = OPENAI_KEY)"
   ]
  },
  {
   "cell_type": "code",
   "execution_count": 3,
   "id": "2b9a7fda",
   "metadata": {},
   "outputs": [
    {
     "data": {
      "text/plain": [
       "'Hello! How can I assist you today?'"
      ]
     },
     "execution_count": 3,
     "metadata": {},
     "output_type": "execute_result"
    }
   ],
   "source": [
    "llm.invoke(\"Hi\").content"
   ]
  },
  {
   "cell_type": "code",
   "execution_count": null,
   "id": "1481d46f",
   "metadata": {},
   "outputs": [],
   "source": [
    "from transformers import AutoTokenizer, AutoModel\n",
    "import torch\n",
    "\n",
    "from langchain_pinecone import PineconeVectorStore\n",
    "from pinecone import Pinecone\n",
    "\n",
    "from typing import Annotated, Literal, Sequence, TypedDict\n",
    "from langchain_core.messages import BaseMessage, HumanMessage, AIMessage\n",
    "\n",
    "from langchain_core.output_parsers import StrOutputParser\n",
    "from langchain_core.prompts import ChatPromptTemplate, PromptTemplate\n",
    "\n",
    "from pydantic import BaseModel, Field\n",
    "from langgraph.graph.message import add_messages\n",
    "from langgraph.prebuilt import tools_condition\n",
    "\n",
    "from langchain.tools.retriever import create_retriever_tool\n",
    "\n",
    "from langgraph.graph import END, StateGraph, START\n",
    "from langgraph.prebuilt import ToolNode"
   ]
  },
  {
   "cell_type": "code",
   "execution_count": 5,
   "id": "f30adac0",
   "metadata": {},
   "outputs": [
    {
     "data": {
      "text/plain": [
       "1024"
      ]
     },
     "execution_count": 5,
     "metadata": {},
     "output_type": "execute_result"
    }
   ],
   "source": [
    "# Embedding Model\n",
    "model_name = \"abhinand/MedEmbed-large-v0.1\"\n",
    "tokenizer = AutoTokenizer.from_pretrained(model_name, token=HUGGINGFACE_API)\n",
    "model = AutoModel.from_pretrained(model_name, token=HUGGINGFACE_API)\n",
    "\n",
    "def generate_embeddings(text):\n",
    "    inputs = tokenizer(text, return_tensors=\"pt\", padding=True, truncation=True)\n",
    "    with torch.no_grad():\n",
    "        outputs = model(**inputs)\n",
    "    embeddings = outputs.last_hidden_state.mean(dim=1)  # Pooling the token embeddings\n",
    "    return embeddings.squeeze().tolist()  # Ensure the output is a flat list\n",
    "\n",
    "class CustomEmbeddings:\n",
    "    def embed_query(self, query: str):\n",
    "        return generate_embeddings(query)\n",
    "\n",
    "embedding_model = CustomEmbeddings()\n",
    "\n",
    "# Chaecking embedding size. It should be 1024. Since, our PineconeDB has 1024 embedding size we need to query user question to 1024 dim\n",
    "len(embedding_model.embed_query(\"hi\"))"
   ]
  },
  {
   "cell_type": "code",
   "execution_count": 6,
   "id": "7455b3ae",
   "metadata": {},
   "outputs": [],
   "source": [
    "# Initializing the Retriever\n",
    "\n",
    "pc = Pinecone(api_key=PINECONE_KEY)\n",
    "index = pc.Index(\"personal-test-1\")\n",
    "vectorstore = PineconeVectorStore(\n",
    "    index=index,\n",
    "    embedding=embedding_model,\n",
    "    text_key=\"text\",\n",
    "    namespace=None\n",
    ")"
   ]
  },
  {
   "cell_type": "code",
   "execution_count": 7,
   "id": "fdc72613",
   "metadata": {},
   "outputs": [
    {
     "name": "stdout",
     "output_type": "stream",
     "text": [
      "86 SECTION II BIOCHEmISTRY ` BIOCHEMISTRY—METABOlISM BIOCHEmISTRY ` BIOCHEMISTRY—METABOlISM Lysosomal storage Lysosomal enzyme deficiency  accumulation of abnormal metabolic products.  incidence of diseases Tay-Sachs, Niemann-Pick, and some forms of Gaucher disease in Ashkenazi Jews. DISEASE FINDINGS DEFICIENT ENZYME ACCUMUlATED SUBSTRATE INHERITANCE Sphingolipidoses Tay-Sachs disease Progressive neurodegeneration, Hexosaminidase A GM ganglioside. AR 2 A developmental delay, hyperreflexia, (“TAy-Sax”). hyperacusis, “cherry-red” spot on macula A (lipid accumulation in ganglion cell layer), lysosomes with onion skin, no hepatosplenomegaly (vs Niemann-Pick). Fabry disease Early: triad of episodic peripheral α-galactosidase A. Ceramide XR B neuropathy, angiokeratomas B, trihexoside hypohidrosis. (globotriaosylce- Late: progressive renal failure, ramide). cardiovascular disease. Metachromatic Central and peripheral demyelination Arylsulfatase A. Cerebroside sulfate. AR leukodystrophy with ataxia, dementia. Krabbe disease Peripheral neuropathy, destruction Galactocerebrosi- Galactocerebroside, AR of oligodendrocytes, developmental dase (galactosylce- psychosine. delay, CN II atrophy, globoid cells. ramidase). Gaucher disease Most common. Glucocerebrosidase Glucocerebroside. AR Hepatosplenomegaly, pancytopenia, (β-glucosidase); treat osteoporosis, avascular necrosis of with recombinant femur, bone crises, Gaucher cells glucocerebrosidase. (lipid-laden macrophages resembling crumpled tissue paper). Niemann-Pick disease Progressive neurodegenera tion, Sphingomyelinase. Sphingomyelin. AR hepatosplenomegaly, foam cells C (lipid-laden macrophages) C, “cherry-red” spot on macula A. Mucopolysaccharidoses Hurler syndrome Developmental delay, hirsutism, α-l-iduronidase. Heparan sulfate, AR skeletal anomalies, airway obstruction, dermatan sulfate. clouded cornea, hepatosplenomegaly. Hunter syndrome Mild Hurler + aggressive behavior, no Iduronate-2 (two)- Heparan sulfate, XR corneal clouding. sulfatase. dermatan sulfate. Hunters see clearly (no corneal clouding) and GM Ceramide trihexoside 2 aggressively aim for the X (X-linked recessive). GM 3 Sulfatides Glucocerebroside Galactocerebroside Ceramide Sphingomyelin FFAASS11__22002233__0011--BBiioocchheemm..iinndddd 8866 1111//1177//2222 77::1199 PPMM\n"
     ]
    }
   ],
   "source": [
    "# Testing the vectorstore\n",
    "\n",
    "query = 'Give the table of lysosomal storage disorders'\n",
    "\n",
    "results = vectorstore.similarity_search_with_relevance_scores(query,k=10)\n",
    "\n",
    "print(results[0][0].page_content)"
   ]
  },
  {
   "cell_type": "code",
   "execution_count": 8,
   "id": "e820f9b5",
   "metadata": {},
   "outputs": [],
   "source": [
    "retriever=vectorstore.as_retriever()"
   ]
  },
  {
   "cell_type": "code",
   "execution_count": 9,
   "id": "e8cc5ed2",
   "metadata": {},
   "outputs": [],
   "source": [
    "retriever_tool = create_retriever_tool(\n",
    "    retriever=retriever,\n",
    "    name=\"retrieve_medical_knowledge\",\n",
    "    description=(\n",
    "        \"Search and return authoritative medical information from the Pinecone vector store. \"\n",
    "        \"The index contains peer-reviewed clinical studies, treatment guidelines, drug monographs, \"\n",
    "        \"and other curated healthcare content. Invoke this tool **only** when the user explicitly asks a medical-related \"\n",
    "        \"question requiring sourced data from the index (e.g., disease mechanisms, therapy options, statistics, references). \"\n",
    "        \"For any non-medical query, casual greeting (‘hi’, ‘hello’, ‘how are you’), or general conversation, respond directly \"\n",
    "        \"without using this tool.\"\n",
    "    ),\n",
    ")"
   ]
  },
  {
   "cell_type": "code",
   "execution_count": 10,
   "id": "b8ec5259",
   "metadata": {},
   "outputs": [],
   "source": [
    "from langchain_community.tools.tavily_search import TavilySearchResults\n",
    "\n",
    "tavily = TavilySearchResults(api_key=TAVILY_API_KEY)"
   ]
  },
  {
   "cell_type": "code",
   "execution_count": 11,
   "id": "49839f73",
   "metadata": {},
   "outputs": [],
   "source": [
    "tools=[retriever_tool]\n",
    "retrieve=ToolNode([retriever_tool])"
   ]
  },
  {
   "cell_type": "code",
   "execution_count": 12,
   "id": "99728492",
   "metadata": {},
   "outputs": [],
   "source": [
    "# ===== 3.  Core prompts =====\n",
    "SYSTEM_PROMPT = (\n",
    "    \"You are a senior USMLE professor. Answer only with correct medical information. \"\n",
    "    \"Cite your reasoning step by step before giving the final answer.\"\n",
    ")\n",
    "\n",
    "ASSISTANT_PROMPT = ChatPromptTemplate.from_messages(\n",
    "    [\n",
    "        (\"system\", SYSTEM_PROMPT),\n",
    "        (\"human\", \"{question}\")\n",
    "    ]\n",
    ")\n",
    "\n",
    "RAG_PROMPT = PromptTemplate(\n",
    "    template=(\n",
    "        SYSTEM_PROMPT\n",
    "        + \"\\n\\n<context>\\n{context}\\n</context>\\n\\n\"\n",
    "        + \"Question: {question}\\nAnswer step-by-step:\"\n",
    "    ),\n",
    "    input_variables=[\"context\", \"question\"],\n",
    ")\n",
    "\n",
    "GRADER_PROMPT = PromptTemplate(\n",
    "    template=(\n",
    "        \"You are a grader deciding if a retrieval context answers the question.\\n\"\n",
    "        \"Context: {context}\\n\\nQuestion: {question}\\n\\n\"\n",
    "        \"Respond with exactly 'yes' or 'no'.\"\n",
    "    ),\n",
    "    input_variables=[\"context\", \"question\"],\n",
    ")"
   ]
  },
  {
   "cell_type": "code",
   "execution_count": 13,
   "id": "a9b4ee11",
   "metadata": {},
   "outputs": [],
   "source": [
    "class AgentState(TypedDict):\n",
    "    messages: Annotated[Sequence[BaseMessage], add_messages]"
   ]
  },
  {
   "cell_type": "code",
   "execution_count": 14,
   "id": "93d5ae54",
   "metadata": {},
   "outputs": [],
   "source": [
    "def tavily_search(state: AgentState) -> AgentState:\n",
    "    \"\"\"Run a Web search when the vector store has no hits.\"\"\"\n",
    "    print(\"---TAVILY WEB SEARCH---\")\n",
    "    question = state[\"messages\"][0].content\n",
    "    snippets = tavily.invoke(question)           # → list[str]\n",
    "    joined   = \"\\n\\n---\\n\\n\".join(snippets)\n",
    "    return {\"messages\": [AIMessage(content=joined)]}"
   ]
  },
  {
   "cell_type": "code",
   "execution_count": 15,
   "id": "89fa3cdf",
   "metadata": {},
   "outputs": [],
   "source": [
    "from langchain_core.tools import StructuredTool\n",
    "def ai_assistant(state: AgentState):\n",
    "    \"\"\"Entry-point node: decide whether to call tools.\"\"\"\n",
    "    messages = state[\"messages\"]\n",
    "\n",
    "    if len(messages)>1:\n",
    "        last_message = messages[-1]\n",
    "        question = last_message.content\n",
    "\n",
    "        chain = ASSISTANT_PROMPT | llm\n",
    "    \n",
    "        response=chain.invoke({\"question\": question})\n",
    "        return {\"messages\": [response]}\n",
    "    else:\n",
    "        llm_with_tool = llm.bind_tools(tools)\n",
    "        response = llm_with_tool.invoke(messages)\n",
    "        #response=handle_query(messages)\n",
    "        return {\"messages\": [response]}"
   ]
  },
  {
   "cell_type": "code",
   "execution_count": 16,
   "id": "40d1f86d",
   "metadata": {},
   "outputs": [],
   "source": [
    "class grade(BaseModel):\n",
    "    binary_score:str=Field(description=\"Relevance score 'yes' or 'no'\")"
   ]
  },
  {
   "cell_type": "code",
   "execution_count": 17,
   "id": "8630fe8f",
   "metadata": {},
   "outputs": [],
   "source": [
    "def grade_documents(state:AgentState)->Literal[\"Output_Generator\", \"Query_Rewriter\", \"Tavily_Search\"]:\n",
    "    \"\"\"Route based on doc availability **and** relevance.\"\"\"\n",
    "\n",
    "    question = state[\"messages\"][0].content\n",
    "    docs     = state[\"messages\"][-1].content        # string after join()\n",
    "\n",
    "    # ①  If retriever found nothing → Web search\n",
    "    if docs.strip() == \"\":\n",
    "        print(\"---NO DOCS FOUND → WEB SEARCH---\")\n",
    "        return \"Tavily_Search\"\n",
    "\n",
    "    # Otherwise grade relevance\n",
    "    llm_with_structure_op=llm.with_structured_output(grade)\n",
    "    \n",
    "    chain = GRADER_PROMPT | llm_with_structure_op\n",
    "    \n",
    "    messages = state[\"messages\"]\n",
    "    last_message = messages[-1]\n",
    "    question = messages[0].content\n",
    "    docs = last_message.content\n",
    "    scored_result = chain.invoke({\"question\": question, \"context\": docs})\n",
    "    score = scored_result.binary_score.lower()\n",
    "\n",
    "    if score == \"yes\":\n",
    "        print(\"---DECISION: DOCS RELEVANT---\")\n",
    "        return \"generator\" #this should be a node name\n",
    "    else:\n",
    "        print(\"---DECISION: DOCS NOT RELEVANT---\")\n",
    "        return \"rewriter\" #this should be a node name"
   ]
  },
  {
   "cell_type": "code",
   "execution_count": 25,
   "id": "5713198a",
   "metadata": {},
   "outputs": [],
   "source": [
    "def generate(state:AgentState):\n",
    "    print(\"---GENERATE---\")\n",
    "    messages = state[\"messages\"]\n",
    "\n",
    "    question = messages[0].content\n",
    "    \n",
    "    last_message = messages[-1]\n",
    "    docs = last_message.content\n",
    "    \n",
    "    rag_chain = RAG_PROMPT | llm\n",
    "\n",
    "    response = rag_chain.invoke({\"context\": docs, \"question\": question})\n",
    "    \n",
    "    return {\"messages\": [response]}"
   ]
  },
  {
   "cell_type": "code",
   "execution_count": 26,
   "id": "1ce576d7",
   "metadata": {},
   "outputs": [],
   "source": [
    "from langchain_core.messages import  HumanMessage\n",
    "def rewrite(state:AgentState):\n",
    "    print(\"---TRANSFORM QUERY---\")\n",
    "    messages = state[\"messages\"]\n",
    "    question = messages[0].content\n",
    "    \n",
    "    message = [HumanMessage(content=f\"\"\"Rewrite this question so that a retrieval system can fetch the most relevant \"\n",
    "        \"clinical information.\\nOriginal: {question}\\nRewritten:\"\"\")\n",
    "       ]\n",
    "    response = llm.invoke(message)\n",
    "    return {\"messages\": [response]}"
   ]
  },
  {
   "cell_type": "code",
   "execution_count": 27,
   "id": "3f2a314e",
   "metadata": {},
   "outputs": [],
   "source": [
    "workflow=StateGraph(AgentState)\n",
    "\n",
    "workflow.add_node(\"AI_Assistant\",ai_assistant)\n",
    "workflow.add_node(\"Vector_Retriever\", retrieve) \n",
    "workflow.add_node(\"Output_Generator\", generate)\n",
    "workflow.add_node(\"Query_Rewriter\", rewrite)\n",
    "workflow.add_node(\"Tavily_Search\", tavily_search)\n",
    "\n",
    "workflow.add_edge(START,\"AI_Assistant\")\n",
    "\n",
    "workflow.add_conditional_edges(\"AI_Assistant\",\n",
    "                            tools_condition,\n",
    "                            {\"tools\": \"Vector_Retriever\",\n",
    "                                END: END,})\n",
    "\n",
    "workflow.add_conditional_edges(\"Vector_Retriever\",\n",
    "                            grade_documents,\n",
    "                            {\"generator\": \"Output_Generator\",\n",
    "                            \"rewriter\": \"Query_Rewriter\",\n",
    "                            \"tavily_search\": \"Tavily_Search\"\n",
    "                            }\n",
    "                            )\n",
    "\n",
    "workflow.add_edge(\"Tavily_Search\", \"Output_Generator\")\n",
    "workflow.add_edge(\"Output_Generator\", END)\n",
    "workflow.add_edge(\"Query_Rewriter\", \"AI_Assistant\")\n",
    "\n",
    "\n",
    "graph=workflow.compile()"
   ]
  },
  {
   "cell_type": "code",
   "execution_count": 28,
   "id": "f45fe041",
   "metadata": {},
   "outputs": [
    {
     "data": {
      "image/png": "[encoded data removed]",
      "text/plain": [
       "<IPython.core.display.Image object>"
      ]
     },
     "metadata": {},
     "output_type": "display_data"
    }
   ],
   "source": [
    "from IPython.display import Image, display\n",
    "\n",
    "try:\n",
    "    display(Image(graph.get_graph(xray=True).draw_mermaid_png()))\n",
    "except Exception:\n",
    "    # This requires some extra dependencies and is optional\n",
    "    pass"
   ]
  },
  {
   "cell_type": "code",
   "execution_count": 29,
   "id": "46e79a74",
   "metadata": {},
   "outputs": [
    {
     "name": "stdout",
     "output_type": "stream",
     "text": [
      "---DECISION: DOCS RELEVANT---\n",
      "---GENERATE---\n"
     ]
    }
   ],
   "source": [
    "response = graph.invoke({\"messages\":[\"Give the table of lysosomal storage disorders\"]})"
   ]
  },
  {
   "cell_type": "code",
   "execution_count": 30,
   "id": "c9a51a0b",
   "metadata": {},
   "outputs": [
    {
     "name": "stdout",
     "output_type": "stream",
     "text": [
      "Step 1: Identify the lysosomal storage disorders (LSDs) from the provided context.\n",
      "\n",
      "The context lists several LSDs under categories such as sphingolipidoses and mucopolysaccharidoses.\n",
      "\n",
      "Step 2: Extract key information for each LSD:\n",
      "- Disease name\n",
      "- Clinical findings\n",
      "- Deficient enzyme\n",
      "- Accumulated substrate\n",
      "- Inheritance pattern\n",
      "\n",
      "Step 3: Organize the extracted information into a clear table format.\n",
      "\n",
      "---\n",
      "\n",
      "**Table of Lysosomal Storage Disorders**\n",
      "\n",
      "| Disease                  | Clinical Findings                                                                                           | Deficient Enzyme               | Accumulated Substrate                     | Inheritance Pattern          |\n",
      "|--------------------------|------------------------------------------------------------------------------------------------------------|-------------------------------|-------------------------------------------|-----------------------------|\n",
      "| **Tay-Sachs disease**    | Progressive neurodegeneration, developmental delay, hyperreflexia, hyperacusis, cherry-red spot on macula, no hepatosplenomegaly | Hexosaminidase A              | GM2 ganglioside                           | Autosomal recessive (AR)     |\n",
      "| **Fabry disease**        | Early: episodic peripheral neuropathy, angiokeratomas, hypohidrosis; Late: renal failure, cardiovascular disease | α-galactosidase A             | Ceramide trihexoside (globotriaosylceramide) | X-linked recessive (XR)       |\n",
      "| **Metachromatic leukodystrophy** | Central and peripheral demyelination, ataxia, dementia                                                | Arylsulfatase A               | Cerebroside sulfate                       | AR                          |\n",
      "| **Krabbe disease**       | Peripheral neuropathy, destruction of oligodendrocytes, developmental delay, optic atrophy, globoid cells    | Galactocerebrosidase          | Galactocerebroside, psychosine            | AR                          |\n",
      "| **Gaucher disease**      | Hepatosplenomegaly, pancytopenia, osteoporosis, avascular necrosis of femur, bone crises, lipid-laden macrophages (crumpled tissue paper cells) | Glucocerebrosidase (β-glucosidase) | Glucocerebroside                         | AR                          |\n",
      "| **Niemann-Pick disease** | Progressive neurodegeneration, hepatosplenomegaly, foam cells, cherry-red spot on macula                    | Sphingomyelinase              | Sphingomyelin                             | AR                          |\n",
      "| **Hurler syndrome**      | Developmental delay, hirsutism, skeletal anomalies, airway obstruction, clouded cornea, hepatosplenomegaly  | α-L-iduronidase               | Heparan sulfate, dermatan sulfate         | AR                          |\n",
      "| **Hunter syndrome**      | Mild Hurler + aggressive behavior, no corneal clouding                                                     | Iduronate-2-sulfatase         | Heparan sulfate, dermatan sulfate         | X-linked recessive (XR)       |\n",
      "\n",
      "---\n",
      "\n",
      "**Summary:**  \n",
      "This table summarizes the major lysosomal storage diseases, their clinical features, enzyme deficiencies, substrates that accumulate, and inheritance patterns.\n",
      "\n",
      "If you need further details on any specific disorder, please ask!\n"
     ]
    }
   ],
   "source": [
    "print(response[\"messages\"][-1].content)"
   ]
  },
  {
   "cell_type": "code",
   "execution_count": 45,
   "id": "a7bc0961",
   "metadata": {},
   "outputs": [
    {
     "name": "stdout",
     "output_type": "stream",
     "text": [
      "---DECISION: DOCS RELEVANT---\n",
      "---GENERATE---\n",
      "Step 1: Analyze the patient's presentation and symptoms  \n",
      "- The patient is a 76-year-old man with urinary frequency, nocturia (waking up 3-4 times per night to urinate), post-void dribbling, and difficulty initiating urination.  \n",
      "- These symptoms suggest lower urinary tract obstruction or dysfunction, most consistent with benign prostatic hyperplasia (BPH), especially given his age (>50 years).  \n",
      "- Digital rectal exam shows an enlarged, smooth, non-tender prostate, typical of BPH (not prostate cancer, which tends to be hard and nodular).  \n",
      "- No signs of infection (no pain, tenderness) or other causes of urinary symptoms.  \n",
      "\n",
      "Step 2: Understanding BPH pathophysiology and clinical features  \n",
      "- BPH is hyperplasia (not hypertrophy) of the transition zone of the prostate, compressing the urethra and causing obstructive urinary symptoms: hesitancy, weak stream, post-void dribbling, nocturia, and frequency.  \n",
      "- It commonly presents in men >50 years old.  \n",
      "- It is not premalignant.  \n",
      "- Symptoms result from increased smooth muscle tone and static enlargement of the prostate.  \n",
      "\n",
      "Step 3: Treatment options for BPH and their mechanisms  \n",
      "- α1-antagonists (e.g., tamsulosin) relax smooth muscle in the prostate and bladder neck, improving urine flow quickly by decreasing dynamic obstruction.  \n",
      "- 5α-reductase inhibitors (e.g., finasteride) reduce prostate size by blocking conversion of testosterone to dihydrotestosterone, but take months to work.  \n",
      "- PDE5 inhibitors (e.g., tadalafil) may also improve symptoms.  \n",
      "- Antimuscarinics (e.g., oxybutynin) are used for overactive bladder (urgency incontinence), not for obstructive symptoms.  \n",
      "- Other drugs listed:  \n",
      "  - Clonidine: α2 agonist, mainly used for hypertension, no role in BPH.  \n",
      "  - Hydrochlorothiazide: diuretic, would worsen urinary symptoms by increasing urine production.  \n",
      "  - Midodrine: α1 agonist, would worsen urinary retention by increasing smooth muscle tone in the bladder neck/prostate.  \n",
      "  - Oxybutynin: antimuscarinic, used for detrusor overactivity/urge incontinence, not for outlet obstruction.  \n",
      "\n",
      "Step 4: Correlate with patient’s current medications and comorbidities  \n",
      "- Patient is on aspirin, atorvastatin, enalapril, and allopurinol. None of these are specifically targeting BPH.  \n",
      "- No contraindications to α1 blockers.  \n",
      "\n",
      "Step 5: Final decision  \n",
      "- Patient symptoms and exam are consistent with BPH.  \n",
      "- The best initial medication to improve his obstructive symptoms is an α1-antagonist, specifically tamsulosin, which relaxes smooth muscle in the prostate and bladder neck, improving urinary flow and reducing symptoms.  \n",
      "\n",
      "**Final answer: E: Tamsulosin**\n"
     ]
    }
   ],
   "source": [
    "question=''' \n",
    "A 76-year-old African American man presents to his primary care \n",
    "provider complaining of urinary frequency. He wakes up 3-4 times per night \n",
    "to urinate while he previously only had to wake up once per night. He also \n",
    "complains of post-void dribbling and difficulty initiating a stream of \n",
    "urine. He denies any difficulty maintaining an erection. His past medical \n",
    "history is notable for non-alcoholic fatty liver disease, hypertension, \n",
    "hyperlipidemia, and gout. He takes aspirin, atorvastatin, enalapril, and \n",
    "allopurinol. His family history is notable for prostate cancer in his \n",
    "father and lung cancer in his mother. He has a 15-pack-year smoking \n",
    "history and drinks alcohol socially. On digital rectal exam, his prostate \n",
    "is enlarged, smooth, and non-tender. Which of the following medications is \n",
    "indicated in this patient? \n",
    "Options: \n",
    "A: Clonidine, \n",
    "B: Hydrochlorothiazide, \n",
    "C: Midodrine, \n",
    "D: Oxybutynin, \n",
    "E: Tamsulosin \n",
    "'''\n",
    "response = graph.invoke({\"messages\":[question]})\n",
    "print(response[\"messages\"][-1].content)"
   ]
  },
  {
   "cell_type": "code",
   "execution_count": null,
   "id": "063563c6",
   "metadata": {},
   "outputs": [],
   "source": []
  }
 ],
 "metadata": {
  "kernelspec": {
   "display_name": "newtest",
   "language": "python",
   "name": "python3"
  },
  "language_info": {
   "codemirror_mode": {
    "name": "ipython",
    "version": 3
   },
   "file_extension": ".py",
   "mimetype": "text/x-python",
   "name": "python",
   "nbconvert_exporter": "python",
   "pygments_lexer": "ipython3",
   "version": "3.12.0"
  }
 },
 "nbformat": 4,
 "nbformat_minor": 5
}
